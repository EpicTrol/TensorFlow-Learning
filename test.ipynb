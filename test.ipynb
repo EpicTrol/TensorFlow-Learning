{
  "nbformat": 4,
  "nbformat_minor": 0,
  "metadata": {
    "colab": {
      "name": "test.ipynb",
      "version": "0.3.2",
      "provenance": [],
      "collapsed_sections": [],
      "include_colab_link": true
    },
    "kernelspec": {
      "name": "python3",
      "display_name": "Python 3"
    },
    "accelerator": "GPU"
  },
  "cells": [
    {
      "cell_type": "markdown",
      "metadata": {
        "id": "view-in-github",
        "colab_type": "text"
      },
      "source": [
        "<a href=\"https://colab.research.google.com/github/EpicTrol/TensorFlow-Learning/blob/master/test.ipynb\" target=\"_parent\"><img src=\"https://colab.research.google.com/assets/colab-badge.svg\" alt=\"Open In Colab\"/></a>"
      ]
    },
    {
      "metadata": {
        "id": "LIVoXh0uK5UM",
        "colab_type": "code",
        "colab": {
          "base_uri": "https://localhost:8080/",
          "height": 202
        },
        "outputId": "7d4b868e-331b-4999-e720-598ec5955376"
      },
      "cell_type": "code",
      "source": [
        "import tensorflow as tf\n",
        "import numpy as np\n",
        "\n",
        "# 使用 NumPy 生成假数据(phony data), 总共 100 个点.\n",
        "x_data = np.float32(np.random.rand(2, 100)) # 随机输入\n",
        "y_data = np.dot([0.100, 0.200], x_data) + 0.300\n",
        "\n",
        "# 构造一个线性模型\n",
        "# \n",
        "b = tf.Variable(tf.zeros([1]))\n",
        "W = tf.Variable(tf.random_uniform([1, 2], -1.0, 1.0))\n",
        "y = tf.matmul(W, x_data) + b\n",
        "\n",
        "# 最小化方差\n",
        "loss = tf.reduce_mean(tf.square(y - y_data))\n",
        "optimizer = tf.train.GradientDescentOptimizer(0.5)\n",
        "train = optimizer.minimize(loss)\n",
        "\n",
        "# 初始化变量\n",
        "init = tf.initialize_all_variables()\n",
        "\n",
        "# 启动图 (graph)\n",
        "sess = tf.Session()\n",
        "sess.run(init)\n",
        "\n",
        "# 拟合平面\n",
        "for step in range(0, 201):\n",
        "    sess.run(train)\n",
        "    if step % 20 == 0:\n",
        "        print (step, sess.run(W), sess.run(b))\n",
        "\n",
        "# 得到最佳拟合结果 W: [[0.100  0.200]], b: [0.300]"
      ],
      "execution_count": 4,
      "outputs": [
        {
          "output_type": "stream",
          "text": [
            "0 [[ 0.16039556 -0.12462676]] [0.97977656]\n",
            "20 [[0.04633866 0.01748051]] [0.4250885]\n",
            "40 [[0.07815282 0.13384086]] [0.3466072]\n",
            "60 [[0.09144656 0.17587668]] [0.31730455]\n",
            "80 [[0.09672567 0.19116914]] [0.30641034]\n",
            "100 [[0.09876346 0.19675876]] [0.30237117]\n",
            "120 [[0.09953695 0.1988083 ]] [0.30087623]\n",
            "140 [[0.09982752 0.19956134]] [0.3003236]\n",
            "160 [[0.09993598 0.19983843]] [0.30011946]\n",
            "180 [[0.09997627 0.19994044]] [0.3000441]\n",
            "200 [[0.09999122 0.19997802]] [0.30001628]\n"
          ],
          "name": "stdout"
        }
      ]
    }
  ]
}