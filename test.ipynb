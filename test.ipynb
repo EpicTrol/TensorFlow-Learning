{
  "nbformat": 4,
  "nbformat_minor": 0,
  "metadata": {
    "colab": {
      "name": "test.ipynb",
      "version": "0.3.2",
      "provenance": [],
      "collapsed_sections": [],
      "include_colab_link": true
    },
    "kernelspec": {
      "name": "python3",
      "display_name": "Python 3"
    },
    "accelerator": "GPU"
  },
  "cells": [
    {
      "cell_type": "markdown",
      "metadata": {
        "id": "view-in-github",
        "colab_type": "text"
      },
      "source": [
        "<a href=\"https://colab.research.google.com/github/EpicTrol/TensorFlow-Learning/blob/master/test.ipynb\" target=\"_parent\"><img src=\"https://colab.research.google.com/assets/colab-badge.svg\" alt=\"Open In Colab\"/></a>"
      ]
    },
    {
      "metadata": {
        "id": "LIVoXh0uK5UM",
        "colab_type": "code",
        "colab": {}
      },
      "cell_type": "code",
      "source": [
        "import tensorflow as tf\n",
        "import numpy as np\n",
        "\n",
        "# 使用 NumPy 生成假数据(phony data), 总共 100 个点.\n",
        "x_data = np.float32(np.random.rand(2, 100)) # 随机输入\n",
        "y_data = np.dot([0.100, 0.200], x_data) + 0.300\n",
        "\n",
        "# 构造一个线性模型\n",
        "# y=wx+b\n",
        "b = tf.Variable(tf.zeros([1]))\n",
        "W = tf.Variable(tf.random_uniform([1, 2], -1.0, 1.0))\n",
        "y = tf.matmul(W, x_data) + b\n",
        "\n",
        "# 最小化方差\n",
        "loss = tf.reduce_mean(tf.square(y - y_data))\n",
        "optimizer = tf.train.GradientDescentOptimizer(0.5)\n",
        "train = optimizer.minimize(loss)\n",
        "\n",
        "# 初始化变量\n",
        "init = tf.initialize_all_variables()\n",
        "\n",
        "# 启动图 (graph)\n",
        "sess = tf.Session()\n",
        "sess.run(init)\n",
        "\n",
        "# 拟合平面\n",
        "for step in range(0, 201):\n",
        "    sess.run(train)\n",
        "    if step % 20 == 0:\n",
        "        print (step, sess.run(W), sess.run(b))\n",
        "\n",
        "# 得到最佳拟合结果 W: [[0.100  0.200]], b: [0.300]"
      ],
      "execution_count": 0,
      "outputs": []
    },
    {
      "metadata": {
        "id": "FYNymhAEvAZX",
        "colab_type": "code",
        "colab": {}
      },
      "cell_type": "code",
      "source": [
        "# \n",
        "import tensorflow as tf\n",
        "hello = tf.constant('Hello, Tensorflow!')\n",
        "sess = tf.Session()\n",
        "print (sess.run(hello).decode())\n",
        "\n",
        "a = tf.constant(10)\n",
        "b = tf.constant(32)\n",
        "print (sess.run(a+b))"
      ],
      "execution_count": 0,
      "outputs": []
    },
    {
      "metadata": {
        "id": "pb7jJVZDFGhr",
        "colab_type": "code",
        "colab": {}
      },
      "cell_type": "code",
      "source": [
        ""
      ],
      "execution_count": 0,
      "outputs": []
    }
  ]
}