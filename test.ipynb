{
  "nbformat": 4,
  "nbformat_minor": 0,
  "metadata": {
    "colab": {
      "name": "test.ipynb",
      "version": "0.3.2",
      "provenance": [],
      "collapsed_sections": [],
      "include_colab_link": true
    },
    "kernelspec": {
      "name": "python3",
      "display_name": "Python 3"
    },
    "accelerator": "GPU"
  },
  "cells": [
    {
      "cell_type": "markdown",
      "metadata": {
        "id": "view-in-github",
        "colab_type": "text"
      },
      "source": [
        "<a href=\"https://colab.research.google.com/github/EpicTrol/TensorFlow-Learning/blob/master/test.ipynb\" target=\"_parent\"><img src=\"https://colab.research.google.com/assets/colab-badge.svg\" alt=\"Open In Colab\"/></a>"
      ]
    },
    {
      "metadata": {
        "id": "LIVoXh0uK5UM",
        "colab_type": "code",
        "colab": {}
      },
      "cell_type": "code",
      "source": [
        "import tensorflow as tf\n",
        "import numpy as np\n",
        "\n",
        "# 使用 NumPy 生成假数据(phony data), 总共 100 个点.\n",
        "x_data = np.float32(np.random.rand(2, 100)) # 随机输入\n",
        "y_data = np.dot([0.100, 0.200], x_data) + 0.300\n",
        "\n",
        "# 构造一个线性模型\n",
        "# y=wx+b\n",
        "b = tf.Variable(tf.zeros([1]))\n",
        "W = tf.Variable(tf.random_uniform([1, 2], -1.0, 1.0))\n",
        "y = tf.matmul(W, x_data) + b\n",
        "\n",
        "# 最小化方差\n",
        "loss = tf.reduce_mean(tf.square(y - y_data))\n",
        "optimizer = tf.train.GradientDescentOptimizer(0.5)\n",
        "train = optimizer.minimize(loss)\n",
        "\n",
        "# 初始化变量\n",
        "init = tf.initialize_all_variables()\n",
        "\n",
        "# 启动图 (graph)\n",
        "sess = tf.Session()\n",
        "sess.run(init)\n",
        "\n",
        "# 拟合平面\n",
        "for step in range(0, 201):\n",
        "    sess.run(train)\n",
        "    if step % 20 == 0:\n",
        "        print (step, sess.run(W), sess.run(b))\n",
        "\n",
        "# 得到最佳拟合结果 W: [[0.100  0.200]], b: [0.300]"
      ],
      "execution_count": 0,
      "outputs": []
    },
    {
      "metadata": {
        "id": "FYNymhAEvAZX",
        "colab_type": "code",
        "colab": {}
      },
      "cell_type": "code",
      "source": [
        "# \n",
        "import tensorflow as tf\n",
        "hello = tf.constant('Hello, Tensorflow!')\n",
        "sess = tf.Session()\n",
        "print (sess.run(hello).decode())\n",
        "\n",
        "a = tf.constant(10)\n",
        "b = tf.constant(32)\n",
        "print (sess.run(a+b))"
      ],
      "execution_count": 0,
      "outputs": []
    },
    {
      "metadata": {
        "id": "pb7jJVZDFGhr",
        "colab_type": "code",
        "colab": {
          "base_uri": "https://localhost:8080/",
          "height": 33
        },
        "outputId": "e6ad9ca3-f400-4824-bd5b-fdc00f053db4"
      },
      "cell_type": "code",
      "source": [
        "# 构建图\n",
        "import tensorflow as tf\n",
        "\n",
        "# 创建一个常量 op, 产生一个 1x2 矩阵. 这个 op 被作为一个节点\n",
        "# 加到默认图中.\n",
        "#\n",
        "# 构造器的返回值代表该常量 op 的返回值.\n",
        "matrix1 = tf.constant([[3., 3.]])\n",
        "\n",
        "# 创建另外一个常量 op, 产生一个 2x1 矩阵.\n",
        "matrix2 = tf.constant([[2.],[2.]])\n",
        "\n",
        "# 创建一个矩阵乘法 matmul op , 把 'matrix1' 和 'matrix2' 作为输入.\n",
        "# 返回值 'product' 代表矩阵乘法的结果.\n",
        "product = tf.matmul(matrix1, matrix2)\n",
        "\n",
        "# 启动默认图.\n",
        "sess = tf.Session()\n",
        "\n",
        "# 调用 sess 的 'run()' 方法来执行矩阵乘法 op, 传入 'product' 作为该方法的参数. \n",
        "# 上面提到, 'product' 代表了矩阵乘法 op 的输出, 传入它是向方法表明, 我们希望取回\n",
        "# 矩阵乘法 op 的输出.\n",
        "#\n",
        "# 整个执行过程是自动化的, 会话负责传递 op 所需的全部输入. op 通常是并发执行的.\n",
        "# \n",
        "# 函数调用 'run(product)' 触发了图中三个 op (两个常量 op 和一个矩阵乘法 op) 的执行.\n",
        "#\n",
        "# 返回值 'result' 是一个 numpy `ndarray` 对象.\n",
        "result = sess.run(product)\n",
        "print (result)\n",
        "# ==> [[ 12.]]\n",
        "\n",
        "# 任务完成, 关闭会话.\n",
        "sess.close()"
      ],
      "execution_count": 22,
      "outputs": [
        {
          "output_type": "stream",
          "text": [
            "[[12.]]\n"
          ],
          "name": "stdout"
        }
      ]
    }
  ]
}